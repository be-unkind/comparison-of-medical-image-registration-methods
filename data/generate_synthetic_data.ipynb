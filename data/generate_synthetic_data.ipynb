{
 "cells": [
  {
   "cell_type": "code",
   "execution_count": 1,
   "metadata": {},
   "outputs": [],
   "source": [
    "import numpy as np"
   ]
  },
  {
   "cell_type": "code",
   "execution_count": 2,
   "metadata": {},
   "outputs": [],
   "source": [
    "def generate_data_triangles(data_size=128, hollow=False, samples=6000):\n",
    "    '''\n",
    "    '''\n",
    "    x, y = np.mgrid[0 : 1 : data_size * 1j, 0 : 1 : data_size * 1j]\n",
    "    x = np.reshape(x, (1, data_size, data_size))\n",
    "    y = np.reshape(y, (1, data_size, data_size))\n",
    "    cx = np.random.random((samples, 1, 1)) * 0.3 + 0.4\n",
    "    cy = np.random.random((samples, 1, 1)) * 0.3 + 0.4\n",
    "    r = np.random.random((samples, 1, 1)) * 0.2 + 0.2\n",
    "    theta = np.random.random((samples, 1, 1)) * np.pi * 2\n",
    "    isTriangle = np.random.random((samples, 1, 1)) > 0.5\n",
    "\n",
    "    triangles = np.sqrt((x - cx) ** 2 + (y - cy) ** 2) - r * np.cos(np.pi / 3) / np.cos(\n",
    "        (np.arctan2(x - cx, y - cy) + theta) % (2 * np.pi / 3) - np.pi / 3\n",
    "    )\n",
    "\n",
    "    triangles = np.tanh(-40 * triangles)\n",
    "\n",
    "    circles = np.tanh(-40 * (np.sqrt((x - cx) ** 2 + (y - cy) ** 2) - r))\n",
    "    if hollow:\n",
    "        triangles = 1 - triangles**2\n",
    "        circles = 1 - circles**2\n",
    "\n",
    "    images = isTriangle * triangles + (1 - isTriangle) * circles\n",
    "\n",
    "    return images\n",
    "\n",
    "def data_triangles_split(data_size=128, hollow=False, samples=6000):\n",
    "    '''\n",
    "    '''\n",
    "    images = generate_data_triangles(data_size, hollow, samples)\n",
    "\n",
    "    np.random.shuffle(images)\n",
    "\n",
    "    split_index = len(images) // 2\n",
    "\n",
    "    array1 = images[:split_index]\n",
    "    array2 = images[split_index:]\n",
    "\n",
    "    return array1, array2"
   ]
  },
  {
   "cell_type": "code",
   "execution_count": 3,
   "metadata": {},
   "outputs": [],
   "source": [
    "source_images, target_images = data_triangles_split(data_size=128, hollow=False, samples=2000)"
   ]
  },
  {
   "cell_type": "code",
   "execution_count": 6,
   "metadata": {},
   "outputs": [],
   "source": [
    "def convert(array):\n",
    "    max_value = 2**32 - 1\n",
    "    scaled_array = array * max_value\n",
    "    uint_array = scaled_array.astype(np.uint32)\n",
    "    return uint_array"
   ]
  },
  {
   "cell_type": "code",
   "execution_count": 8,
   "metadata": {},
   "outputs": [],
   "source": [
    "source_images = [convert(element) for element in source_images]\n",
    "target_images = [convert(element) for element in target_images]"
   ]
  }
 ],
 "metadata": {
  "kernelspec": {
   "display_name": "Python 3",
   "language": "python",
   "name": "python3"
  },
  "language_info": {
   "codemirror_mode": {
    "name": "ipython",
    "version": 3
   },
   "file_extension": ".py",
   "mimetype": "text/x-python",
   "name": "python",
   "nbconvert_exporter": "python",
   "pygments_lexer": "ipython3",
   "version": "3.9.16"
  }
 },
 "nbformat": 4,
 "nbformat_minor": 2
}
