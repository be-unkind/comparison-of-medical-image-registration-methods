{
 "cells": [
  {
   "cell_type": "code",
   "execution_count": 96,
   "metadata": {},
   "outputs": [],
   "source": [
    "import cv2\n",
    "import numpy as np\n",
    "import elasticdeform\n",
    "from PIL import Image\n",
    "import matplotlib.pyplot as plt\n",
    "import os"
   ]
  },
  {
   "cell_type": "code",
   "execution_count": 97,
   "metadata": {},
   "outputs": [],
   "source": [
    "import data_utils"
   ]
  },
  {
   "cell_type": "code",
   "execution_count": 109,
   "metadata": {},
   "outputs": [
    {
     "data": {
      "text/plain": [
       "<module 'data_utils' from '/Users/nastya/Documents/ucu/drive_dataset/data_utils.py'>"
      ]
     },
     "execution_count": 109,
     "metadata": {},
     "output_type": "execute_result"
    }
   ],
   "source": [
    "import importlib\n",
    "importlib.reload(data_utils)"
   ]
  },
  {
   "cell_type": "code",
   "execution_count": 99,
   "metadata": {},
   "outputs": [],
   "source": [
    "import torch\n",
    "from torchvision.transforms import v2\n",
    "from torchvision.transforms.functional import InterpolationMode"
   ]
  },
  {
   "cell_type": "code",
   "execution_count": 100,
   "metadata": {},
   "outputs": [],
   "source": [
    "IMAGES_PATH = '/Users/nastya/Documents/ucu/drive_dataset/DRIVE/training/images'\n",
    "MASKS_PATH = '/Users/nastya/Documents/ucu/drive_dataset/DRIVE/training/1st_manual'"
   ]
  },
  {
   "cell_type": "code",
   "execution_count": 101,
   "metadata": {},
   "outputs": [],
   "source": [
    "original_images = sorted(os.listdir(IMAGES_PATH))\n",
    "segmentation_masks = sorted(os.listdir(MASKS_PATH))"
   ]
  },
  {
   "cell_type": "code",
   "execution_count": 102,
   "metadata": {},
   "outputs": [],
   "source": [
    "original_images = [data_utils.to_numpy(os.path.join('/Users/nastya/Documents/ucu/drive_dataset/DRIVE/training/images', element)) for element in original_images]\n",
    "segmentation_masks = [data_utils.to_numpy(os.path.join('/Users/nastya/Documents/ucu/drive_dataset/DRIVE/training/1st_manual', element)) for element in segmentation_masks]"
   ]
  },
  {
   "cell_type": "code",
   "execution_count": 104,
   "metadata": {},
   "outputs": [],
   "source": [
    "num_pairs_per_image = 20\n",
    "target_size = (292, 282)\n",
    "\n",
    "pairs = data_utils.generate_pairs(original_images, segmentation_masks, num_pairs_per_image, target_size, 'manual')"
   ]
  },
  {
   "cell_type": "code",
   "execution_count": 111,
   "metadata": {},
   "outputs": [],
   "source": [
    "data_folder = '/Users/nastya/Documents/ucu/drive_dataset/drive_data'\n",
    "\n",
    "for i, pair in enumerate(pairs):\n",
    "    pair_folder = os.path.join(data_folder, f\"pairs_{i}\")\n",
    "    os.makedirs(pair_folder, exist_ok=False)\n",
    "\n",
    "    data_utils.save_image(pair['target_image'], os.path.join(pair_folder, \"target_image.jpg\"))\n",
    "    data_utils.save_image(pair['target_mask'], os.path.join(pair_folder, \"target_mask.jpg\"))\n",
    "\n",
    "    source_images_folder = os.path.join(pair_folder, \"source_images\")\n",
    "    os.makedirs(source_images_folder, exist_ok=False)\n",
    "    for j, source_image in enumerate(pair['source_images']):\n",
    "        data_utils.save_image(source_image, os.path.join(source_images_folder, f\"source_image_{j}.jpg\"))\n",
    "\n",
    "    source_masks_folder = os.path.join(pair_folder, \"source_masks\")\n",
    "    os.makedirs(source_masks_folder, exist_ok=False)\n",
    "    for j, source_mask in enumerate(pair['source_masks']):\n",
    "        data_utils.save_image(source_mask, os.path.join(source_masks_folder, f\"source_mask_{j}.jpg\"))"
   ]
  }
 ],
 "metadata": {
  "kernelspec": {
   "display_name": "Python 3",
   "language": "python",
   "name": "python3"
  },
  "language_info": {
   "codemirror_mode": {
    "name": "ipython",
    "version": 3
   },
   "file_extension": ".py",
   "mimetype": "text/x-python",
   "name": "python",
   "nbconvert_exporter": "python",
   "pygments_lexer": "ipython3",
   "version": "3.9.16"
  }
 },
 "nbformat": 4,
 "nbformat_minor": 2
}
